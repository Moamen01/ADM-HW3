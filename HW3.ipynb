{
  "nbformat": 4,
  "nbformat_minor": 0,
  "metadata": {
    "colab": {
      "name": "HW3.ipynb",
      "provenance": []
    },
    "kernelspec": {
      "name": "python3",
      "display_name": "Python 3"
    }
  },
  "cells": [
    {
      "cell_type": "code",
      "metadata": {
        "id": "NjrTEp_iw4ZQ",
        "colab_type": "code",
        "colab": {}
      },
      "source": [
        "import urllib\n",
        "import pandas as pd\n",
        "from bs4 import BeautifulSoup\n",
        "import requests\n",
        "import time\n",
        "from random import randint\n",
        "import codecs\n",
        "import csv\n",
        "import unicodedata\n",
        "import re"
      ],
      "execution_count": 0,
      "outputs": []
    },
    {
      "cell_type": "code",
      "metadata": {
        "id": "8a2sLR5Ft6zh",
        "colab_type": "code",
        "outputId": "441f1439-fd7e-4002-d40c-b37156580fa1",
        "colab": {
          "base_uri": "https://localhost:8080/",
          "height": 54
        }
      },
      "source": [
        "from google.colab import drive\n",
        "drive.mount('/content/drive')"
      ],
      "execution_count": 0,
      "outputs": [
        {
          "output_type": "stream",
          "text": [
            "Drive already mounted at /content/drive; to attempt to forcibly remount, call drive.mount(\"/content/drive\", force_remount=True).\n"
          ],
          "name": "stdout"
        }
      ]
    },
    {
      "cell_type": "code",
      "metadata": {
        "id": "3cJSIhASvnUf",
        "colab_type": "code",
        "colab": {}
      },
      "source": [
        "with open(\"/content/drive/My Drive/wiki_dataset/Links/movies1.html\", \"r\") as f:\n",
        "    contents = f.read()\n",
        "    soup = BeautifulSoup(contents, 'lxml')\n",
        "    \n",
        "movies_soup= soup.find_all('tr')[1:]\n",
        "dic = {}\n",
        "for m in movies_soup:\n",
        "    dic[int(m.find('td').text)]= m.find('a').text\n",
        "\n",
        "movies_links = pd.DataFrame(list(dic.items()), columns= ['Id', 'Url'])"
      ],
      "execution_count": 0,
      "outputs": []
    },
    {
      "cell_type": "code",
      "metadata": {
        "id": "6rpNQA3yvntf",
        "colab_type": "code",
        "colab": {}
      },
      "source": [
        "def crawl_wiki(movies):\n",
        "    missing=[]\n",
        "    for index ,m in movies.iterrows():\n",
        "        try:\n",
        "            id = m['Id']\n",
        "            url = m['Url']\n",
        "\n",
        "            html =requests.get(url)\n",
        "            with open(\"article_\"+str(id)+\".html\", \"w\") as file:\n",
        "                file.write(html.text)\n",
        "            time.sleep(randint(1, 3))\n",
        "        except requests.exceptions.RequestException as e:\n",
        "            print('Rate limited. Need to wait for 20 minutes')\n",
        "            print(e)\n",
        "            print('missing: ',index)\n",
        "            missing.append(index)\n",
        "            time.sleep(20*60)\n",
        "    if len(missing)>0: crawl_wiki(movies.loc[missing])\n",
        "            \n",
        "        "
      ],
      "execution_count": 0,
      "outputs": []
    },
    {
      "cell_type": "code",
      "metadata": {
        "id": "X60I60Tuvnwl",
        "colab_type": "code",
        "colab": {}
      },
      "source": [
        ""
      ],
      "execution_count": 0,
      "outputs": []
    },
    {
      "cell_type": "code",
      "metadata": {
        "id": "-VB4dYcBvnzg",
        "colab_type": "code",
        "colab": {}
      },
      "source": [
        ""
      ],
      "execution_count": 0,
      "outputs": []
    },
    {
      "cell_type": "code",
      "metadata": {
        "id": "X8Corp3pxFLp",
        "colab_type": "code",
        "colab": {}
      },
      "source": [
        "def get_title(page):\n",
        "    return page.find('h1', class_='firstHeading').get_text('i')"
      ],
      "execution_count": 0,
      "outputs": []
    },
    {
      "cell_type": "code",
      "metadata": {
        "id": "7D0MklajxHYe",
        "colab_type": "code",
        "colab": {}
      },
      "source": [
        "def get_intro(page):\n",
        "    if page.find(\"div\", class_=\"toc\") != None:\n",
        "        #print(1)\n",
        "        content = page.find(\"div\", class_=\"toc\") #.findPreviousSiblings()\n",
        "        pre = content.findPreviousSiblings()\n",
        "        #pre.reverse()\n",
        "        intro = ''\n",
        "        for i in pre:\n",
        "            if i.name =='p':\n",
        "                intro+=i.text\n",
        "            else: break \n",
        "        return intro\n",
        "    elif page.find(\"table\", class_=\"infobox vevent\")!=None:\n",
        "        #print(2)\n",
        "        table = page.find(\"table\", class_=\"infobox vevent\")\n",
        "        intro = ''\n",
        "        for i in table.find_next_siblings():\n",
        "            if i.name !='div':\n",
        "                intro+=i.text\n",
        "\n",
        "            else: break\n",
        "        return intro\n",
        "    else: return 'NA'"
      ],
      "execution_count": 0,
      "outputs": []
    },
    {
      "cell_type": "code",
      "metadata": {
        "id": "9AhIiP4LxJsK",
        "colab_type": "code",
        "colab": {}
      },
      "source": [
        "def get_plot(page):\n",
        "    #pattern='(?:^|\\W)Plot(?:$|\\W)'\n",
        "    plot_head= page.find(class_=\"mw-headline\").find_parent()\n",
        "    plot= ''\n",
        "    for i in plot_head.find_next_siblings():\n",
        "        if i.name != 'h2':\n",
        "            plot+=i.text\n",
        "        else: break\n",
        "    return plot"
      ],
      "execution_count": 0,
      "outputs": []
    },
    {
      "cell_type": "code",
      "metadata": {
        "id": "w6WdG4nsxMKJ",
        "colab_type": "code",
        "colab": {}
      },
      "source": [
        "def extract_infobox2(page):\n",
        "    d = {'name':'NA', 'Directed by': 'NA', 'Produced by': 'NA','Written by': 'NA', 'Starring': 'NA', 'Music by': 'NA',\n",
        "      'Release date': 'NA', 'Running time': 'NA', 'Country': 'NA','Language': 'NA', 'Budget': 'NA'}\n",
        "    if page.find(\"table\", class_=\"infobox vevent\")==None: return list(d.values())\n",
        "    table = page.find(\"table\", class_=\"infobox vevent\") #table infobox\n",
        "    \n",
        "    d['name'] = table.find(\"th\", class_=\"summary\").text if table.find(\"th\", class_=\"summary\") else 'NA'\n",
        "    for record in table.findAll('tr'):\n",
        "        for attr in record.findAll('th'):\n",
        "            for data in record.findAll('td'):\n",
        "                if attr.text in d:\n",
        "                    if attr.text == 'Release date': #continue\n",
        "                        d[attr.text] =unicodedata.normalize(\"NFKD\",data.get_text(strip=True))\n",
        "                    else:\n",
        "                        d[attr.text] = ' - '.join(list(data.stripped_strings))\n",
        "                else: continue \n",
        "    return list(d.values())"
      ],
      "execution_count": 0,
      "outputs": []
    },
    {
      "cell_type": "code",
      "metadata": {
        "id": "acGjkdVuxPRp",
        "colab_type": "code",
        "colab": {}
      },
      "source": [
        "def create_tsv(p, r,f_name):\n",
        "    missing_pages=[]\n",
        "    with open(f_name, 'wt') as out_file:\n",
        "        header=['Id', 'Title', 'Intro', 'Plot', 'Name', 'Directed_by', 'Produced_by','Written_by', 'Starring', 'Music_by',\n",
        "        'Release_date', 'Running_time', 'Country','Language', 'Budget']\n",
        "        tsv_writer = csv.writer(out_file, delimiter='\\t')\n",
        "        tsv_writer.writerow(header)\n",
        "        for i in r:\n",
        "            if i%1000==0: \n",
        "                print(i)\n",
        "                time.sleep(60)\n",
        "            #print(i)\n",
        "            path = p+str(i)+\".html\"\n",
        "            with open(path, \"r\") as f:\n",
        "                contents = f.read()\n",
        "                page = BeautifulSoup(contents, 'lxml')\n",
        "            if page.find(\"table\", id=\"disambigbox\")!=None or page.find(\"table\", id=\"setindexbox\")!=None or page.find(\"table\", id=\"noarticletext\")!=None:\n",
        "                row=[i]+['NA' for i in range(14)]\n",
        "                tsv_writer = csv.writer(out_file, delimiter='\\t')\n",
        "                tsv_writer.writerow(row)\n",
        "                #print('missing page',i)\n",
        "                missing_pages.append(i)\n",
        "            else:\n",
        "                row = [i, get_title(page), get_intro(page), get_plot(page)]+ extract_infobox2(page)   \n",
        "                tsv_writer = csv.writer(out_file, delimiter='\\t')\n",
        "                tsv_writer.writerow(row)\n",
        "    print(missing_pages)"
      ],
      "execution_count": 0,
      "outputs": []
    },
    {
      "cell_type": "code",
      "metadata": {
        "id": "qXeelqntxXqa",
        "colab_type": "code",
        "colab": {}
      },
      "source": [
        "movies_1= pd.read_csv(\"/content/drive/My Drive/wiki_dataset/tsv_files/Movies1_tsv.tsv\",sep='\\t')\n",
        "movies_2= pd.read_csv(\"/content/drive/My Drive/wiki_dataset/tsv_files/Movies2_tsv.tsv\",sep='\\t')\n",
        "movies_3= pd.read_csv(\"/content/drive/My Drive/wiki_dataset/tsv_files/Movies3_tsv.tsv\",sep='\\t')"
      ],
      "execution_count": 0,
      "outputs": []
    },
    {
      "cell_type": "code",
      "metadata": {
        "id": "p03iBEhVxdXq",
        "colab_type": "code",
        "colab": {}
      },
      "source": [
        ""
      ],
      "execution_count": 0,
      "outputs": []
    },
    {
      "cell_type": "code",
      "metadata": {
        "id": "_baoNHPluehr",
        "colab_type": "code",
        "colab": {}
      },
      "source": [
        ""
      ],
      "execution_count": 0,
      "outputs": []
    }
  ]
}