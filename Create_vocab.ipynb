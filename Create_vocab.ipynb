{
 "cells": [
  {
   "cell_type": "code",
   "execution_count": 2,
   "metadata": {},
   "outputs": [],
   "source": [
    "\n",
    "import pandas as pd\n",
    "\n"
   ]
  },
  {
   "cell_type": "code",
   "execution_count": 3,
   "metadata": {},
   "outputs": [],
   "source": [
    "movies_1= pd.read_csv(\"C:/Users/lucy_/Downloads/Movies1_tsv.tsv\",sep='\\t')"
   ]
  },
  {
   "cell_type": "code",
   "execution_count": 37,
   "metadata": {},
   "outputs": [],
   "source": [
    "chars= list('''!()-[]{};:'\"\\,<>./?@#$%^&*_~''')\n",
    "chars.append('\\n')\n",
    "from nltk.corpus import stopwords\n",
    "en_stops = list(stopwords.words('english'))\n",
    "en_stops.append('')\n",
    "en_stops.append('\\n')\n",
    "words=[]"
   ]
  },
  {
   "cell_type": "code",
   "execution_count": 7,
   "metadata": {},
   "outputs": [],
   "source": [
    "cols=[]\n",
    "for col in movies_1:\n",
    "    cols.append(col)\n",
    "cols.remove('Id')"
   ]
  },
  {
   "cell_type": "code",
   "execution_count": 39,
   "metadata": {},
   "outputs": [],
   "source": [
    "for col in cols:\n",
    "    aux=[]\n",
    "    for row in movies_1[col]:\n",
    "        \n",
    "        if type(row)!=float:\n",
    "\n",
    "            aux.append(row)\n",
    "            \n",
    "            \n",
    "\n",
    "\n",
    "    for i in range(len(aux)):\n",
    "        for j in aux[i]:\n",
    "            if j in chars:\n",
    "                aux[i]=aux[i].replace(j,\" \")\n",
    "\n",
    "\n",
    "    for a in aux: \n",
    "        bag = a.split(' ')\n",
    "        words.append(bag)"
   ]
  },
  {
   "cell_type": "code",
   "execution_count": 40,
   "metadata": {},
   "outputs": [],
   "source": [
    "for lis in words:\n",
    "    for word in lis:\n",
    "        if word in en_stops:\n",
    "            lis.remove(word)"
   ]
  },
  {
   "cell_type": "code",
   "execution_count": 106,
   "metadata": {},
   "outputs": [],
   "source": [
    "words_1=[]\n",
    "for lis in words:\n",
    "    for word in lis:\n",
    "        \n",
    "        words_1.append(word)\n",
    "\n",
    "        \n",
    "        "
   ]
  },
  {
   "cell_type": "code",
   "execution_count": 145,
   "metadata": {},
   "outputs": [],
   "source": [
    "vocab = dict(zip(words_1,[[] for x in range(0,len(words_1))]))"
   ]
  },
  {
   "cell_type": "code",
   "execution_count": 164,
   "metadata": {},
   "outputs": [],
   "source": [
    "def put_in_vocab(row):\n",
    "    a = (getattr(row,\"Title\"),getattr(row,\"Intro\"),getattr(row,\"Plot\"),\n",
    "           getattr(row,\"Name\"),getattr(row,\"Directed_by\"),getattr(row,\"Produced_by\"),getattr(row,\"Written_by\"),\n",
    "          getattr(row,\"Starring\"),getattr(row,\"Music_by\"),getattr(row,\"Release_date\"),getattr(row,\"Running_time\"),\n",
    "          getattr(row,\"Country\"),getattr(row,\"Language\"),getattr(row,\"Budget\"))\n",
    "    w=[]\n",
    "    for i in a:\n",
    "        if type(i)!=float:\n",
    "            w.append(str(i).split(' '))\n",
    "    \n",
    "    for i in w:\n",
    "        for j in i:\n",
    "            if j in vocab.keys():\n",
    "                f='film_'+str(getattr(row,\"Id\"))\n",
    "                if(f not in vocab.get(j)):\n",
    "                    vocab.get(j).append(f)\n",
    "    \n",
    "    "
   ]
  },
  {
   "cell_type": "code",
   "execution_count": null,
   "metadata": {},
   "outputs": [],
   "source": [
    "for row in movies_1.itertuples(index=True, name='Pandas'):\n",
    "    put_in_vocab(row)"
   ]
  }
 ],
 "metadata": {
  "kernelspec": {
   "display_name": "Python 3",
   "language": "python",
   "name": "python3"
  },
  "language_info": {
   "codemirror_mode": {
    "name": "ipython",
    "version": 3
   },
   "file_extension": ".py",
   "mimetype": "text/x-python",
   "name": "python",
   "nbconvert_exporter": "python",
   "pygments_lexer": "ipython3",
   "version": "3.5.2"
  }
 },
 "nbformat": 4,
 "nbformat_minor": 2
}
